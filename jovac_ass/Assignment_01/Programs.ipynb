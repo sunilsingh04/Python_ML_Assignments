{
  "nbformat": 4,
  "nbformat_minor": 0,
  "metadata": {
    "colab": {
      "provenance": [],
      "toc_visible": true
    },
    "kernelspec": {
      "name": "python3",
      "display_name": "Python 3"
    },
    "language_info": {
      "name": "python"
    }
  },
  "cells": [
    {
      "cell_type": "code",
      "execution_count": 6,
      "metadata": {
        "colab": {
          "base_uri": "https://localhost:8080/"
        },
        "id": "lAm6kbDQIx4S",
        "outputId": "3f9a5ccc-525f-4ca9-d41e-b0205a163353"
      },
      "outputs": [
        {
          "output_type": "stream",
          "name": "stdout",
          "text": [
            "Enter your age: 21\n",
            "You are an adult.\n"
          ]
        }
      ],
      "source": [
        "class Adult(Exception):\n",
        "    pass\n",
        "\n",
        "def CheckAge(age):\n",
        "    if age < 18:\n",
        "        raise Adult(\"You are naabalik\")\n",
        "    else:\n",
        "        return \"You are an adult.\"\n",
        "\n",
        "try:\n",
        "    age = int(input(\"Enter your age: \"))\n",
        "    result = CheckAge(age)\n",
        "    print(result)\n",
        "except ValueError:\n",
        "    print(\"Please enter a valid number for age.\")"
      ]
    },
    {
      "cell_type": "code",
      "source": [
        "import csv\n",
        "\n",
        "Array = [\n",
        "    [1, 2, 3],\n",
        "    [4, 5, 6],\n",
        "    [7, 8, 9]\n",
        "]\n",
        "\n",
        "def write_to_csv(data, filename):\n",
        "    with open(filename, mode='w', newline='') as file:\n",
        "        writer = csv.writer(file)\n",
        "        writer.writerows(data)\n",
        "    print(\"Data written to\", filename)\n",
        "\n",
        "def read_from_csv(filename):\n",
        "    result = []\n",
        "    with open(filename, mode='r') as file:\n",
        "        reader = csv.reader(file)\n",
        "        for row in reader:\n",
        "            result.append([int(value) for value in row])\n",
        "    return result\n",
        "\n",
        "csv_file = \"matrix.csv\"\n",
        "\n",
        "write_to_csv(Array, csv_file)\n",
        "\n",
        "loaded_matrix = read_from_csv(csv_file)\n",
        "\n",
        "print(\"Data read from CSV:\")\n",
        "for row in loaded_matrix:\n",
        "    print(row)\n"
      ],
      "metadata": {
        "colab": {
          "base_uri": "https://localhost:8080/"
        },
        "id": "Nu6SK6LXKUIy",
        "outputId": "f0a00fb7-89b7-461d-e420-e8914bac7624"
      },
      "execution_count": 7,
      "outputs": [
        {
          "output_type": "stream",
          "name": "stdout",
          "text": [
            "Data written to matrix.csv\n",
            "Data read from CSV:\n",
            "[1, 2, 3]\n",
            "[4, 5, 6]\n",
            "[7, 8, 9]\n"
          ]
        }
      ]
    }
  ]
}