{
  "nbformat": 4,
  "nbformat_minor": 0,
  "metadata": {
    "colab": {
      "provenance": []
    },
    "kernelspec": {
      "name": "python3",
      "display_name": "Python 3"
    },
    "language_info": {
      "name": "python"
    }
  },
  "cells": [
    {
      "cell_type": "code",
      "execution_count": 2,
      "metadata": {
        "colab": {
          "base_uri": "https://localhost:8080/"
        },
        "id": "KDLNBQUxMDJE",
        "outputId": "8f107b6c-3a96-4cd8-c7e6-c4934b61d588"
      },
      "outputs": [
        {
          "output_type": "stream",
          "name": "stdout",
          "text": [
            "[ 1  2  3  4  5  6  7  8  9 10 11 12 13 14 15]\n",
            "Shape: (15,)\n",
            "Size: 15\n",
            "Data type: int64\n",
            "\n",
            "[[1 2 3]\n",
            " [4 5 6]\n",
            " [7 8 9]]\n",
            "Shape: (3, 3)\n",
            "Size: 9\n",
            "Data type: int64\n",
            "\n",
            "[[[0.73136894 0.19175549 0.3671646 ]\n",
            "  [0.45515804 0.69754882 0.58877896]\n",
            "  [0.93725421 0.55887294 0.62555432]\n",
            "  [0.89969936 0.96143421 0.77181123]\n",
            "  [0.64479527 0.63855028 0.56347887]]\n",
            "\n",
            " [[0.70344711 0.4020702  0.07703723]\n",
            "  [0.68092317 0.22031559 0.59155488]\n",
            "  [0.51500079 0.74919723 0.34650416]\n",
            "  [0.51583058 0.23913262 0.08417693]\n",
            "  [0.54056514 0.9904559  0.2405361 ]]\n",
            "\n",
            " [[0.75160103 0.17137237 0.51665224]\n",
            "  [0.29889983 0.33877028 0.24959467]\n",
            "  [0.60189946 0.60562881 0.95063607]\n",
            "  [0.23975157 0.59152747 0.11341069]\n",
            "  [0.09293118 0.38411744 0.96209776]]]\n",
            "Shape: (3, 5, 3)\n",
            "Size: 45\n",
            "Data type: float64\n"
          ]
        }
      ],
      "source": [
        "# Task 1: Creating Arrays\n",
        "import numpy as np\n",
        "\n",
        "one_d_array = np.arange(1, 16)\n",
        "print(one_d_array)\n",
        "print(\"Shape:\", one_d_array.shape)\n",
        "print(\"Size:\", one_d_array.size)\n",
        "print(\"Data type:\", one_d_array.dtype)\n",
        "print()\n",
        "\n",
        "two_d_array = np.arange(1, 10).reshape(3, 3)\n",
        "print(two_d_array)\n",
        "print(\"Shape:\", two_d_array.shape)\n",
        "print(\"Size:\", two_d_array.size)\n",
        "print(\"Data type:\", two_d_array.dtype)\n",
        "print()\n",
        "\n",
        "three_d_array = np.random.rand(3, 5, 3)\n",
        "print(three_d_array)\n",
        "print(\"Shape:\", three_d_array.shape)\n",
        "print(\"Size:\", three_d_array.size)\n",
        "print(\"Data type:\", three_d_array.dtype)\n"
      ]
    },
    {
      "cell_type": "code",
      "source": [
        "# Task 2: Array Indexing and Slicing\n",
        "data = [5, 15, 25, 35, 45, 55, 65, 75, 85]\n",
        "\n",
        "print(\"Original data:\", data)\n",
        "\n",
        "print(\"First 3 elements:\", data[:3])\n",
        "\n",
        "print(\"All elements with step of 2:\", data[::2])\n",
        "\n",
        "print(\"Reverse Array:\", data[::-1])\n"
      ],
      "metadata": {
        "colab": {
          "base_uri": "https://localhost:8080/"
        },
        "id": "JoEo_jFkMlkf",
        "outputId": "c2f2372f-543c-4374-f4d9-ae8e35c2a0b1"
      },
      "execution_count": 3,
      "outputs": [
        {
          "output_type": "stream",
          "name": "stdout",
          "text": [
            "Original data: [5, 15, 25, 35, 45, 55, 65, 75, 85]\n",
            "First 3 elements: [5, 15, 25]\n",
            "All elements with step of 2: [5, 25, 45, 65, 85]\n",
            "Reverse Array: [85, 75, 65, 55, 45, 35, 25, 15, 5]\n"
          ]
        }
      ]
    },
    {
      "cell_type": "code",
      "source": [
        "# Task 3: Mathematical Operations\n",
        "import numpy as np\n",
        "\n",
        "array_a = np.random.randint(1, 20, 5)\n",
        "array_b = np.random.randint(1, 20, 5)\n",
        "\n",
        "print(\"Random array A:\", array_a)\n",
        "print(\"Random array B:\", array_b)\n",
        "\n",
        "array_sum = array_a + array_b\n",
        "print(\"Sum of A and B:\", array_sum)\n",
        "\n",
        "array_sub = array_a - array_b\n",
        "print(\"Subtraction of A and B:\", array_sub)\n",
        "\n",
        "array_mul = array_a * array_b\n",
        "print(\"Multiplication of A and B:\", array_mul)\n",
        "\n",
        "array_div = array_a / array_b\n",
        "print(\"Division of A and B:\", array_div)\n",
        "print()\n",
        "\n",
        "dot_product = np.dot(array_a, array_b)\n",
        "print(\"Dot product of A and B:\", dot_product)\n",
        "\n",
        "mean_a = np.mean(array_a)\n",
        "median_a = np.median(array_a)\n",
        "std_dev_a = np.std(array_a)\n",
        "variance_a = np.var(array_a)\n",
        "\n",
        "print(\"Mean of array A:\", mean_a)\n",
        "print(\"Median of array A:\", median_a)\n",
        "print(\"Standard Deviation of array A:\", std_dev_a)\n",
        "print(\"Variance of array A:\", variance_a)\n",
        "\n",
        "max_b = np.max(array_b)\n",
        "min_b = np.min(array_b)\n",
        "max_index_b = np.argmax(array_b)\n",
        "min_index_b = np.argmin(array_b)\n",
        "\n",
        "print(\"Maximum value in array B:\", max_b, \"at index\", max_index_b)\n",
        "print(\"Minimum value in array B:\", min_b, \"at index\", min_index_b)"
      ],
      "metadata": {
        "colab": {
          "base_uri": "https://localhost:8080/"
        },
        "id": "xWZWkCV-M2kv",
        "outputId": "fb826609-0aac-47df-9bde-294b80ba552f"
      },
      "execution_count": 4,
      "outputs": [
        {
          "output_type": "stream",
          "name": "stdout",
          "text": [
            "Random array A: [ 8 12  8 13  4]\n",
            "Random array B: [ 9  4  9  3 12]\n",
            "Sum of A and B: [17 16 17 16 16]\n",
            "Subtraction of A and B: [-1  8 -1 10 -8]\n",
            "Multiplication of A and B: [72 48 72 39 48]\n",
            "Division of A and B: [0.88888889 3.         0.88888889 4.33333333 0.33333333]\n",
            "\n",
            "Dot product of A and B: 279\n",
            "Mean of array A: 9.0\n",
            "Median of array A: 8.0\n",
            "Standard Deviation of array A: 3.22490309931942\n",
            "Variance of array A: 10.4\n",
            "Maximum value in array B: 12 at index 4\n",
            "Minimum value in array B: 3 at index 3\n"
          ]
        }
      ]
    },
    {
      "cell_type": "code",
      "source": [
        "# Task 4: Reshaping and Transposing\n",
        "import numpy as np\n",
        "\n",
        "my_data = np.array([11, 22, 33, 44, 55, 66, 77, 88, 99, 100, 111, 122])\n",
        "print(\"Original 1D Array:\")\n",
        "print(my_data)\n",
        "print(\"Shape:\", my_data.shape)\n",
        "print()\n",
        "\n",
        "reshaped_2d = my_data.reshape(4, 3)\n",
        "print(\"Reshaped to 2D (4x3):\")\n",
        "print(reshaped_2d)\n",
        "print(\"Shape:\", reshaped_2d.shape)\n",
        "print()\n",
        "\n",
        "reshaped_3d = my_data.reshape(2, 2, 3)\n",
        "print(\"Reshaped to 3D (2x2x3):\")\n",
        "print(reshaped_3d)\n",
        "print(\"Shape:\", reshaped_3d.shape)\n",
        "print()\n",
        "\n",
        "transposed_2d = reshaped_2d.T\n",
        "print(\"Transposed 2D Array:\")\n",
        "print(transposed_2d)\n",
        "print(\"Shape:\", transposed_2d.shape)\n"
      ],
      "metadata": {
        "colab": {
          "base_uri": "https://localhost:8080/"
        },
        "id": "Ll8KLQ9JNSCe",
        "outputId": "d47bfef0-a0df-4d80-e69b-3d35c42e8566"
      },
      "execution_count": 5,
      "outputs": [
        {
          "output_type": "stream",
          "name": "stdout",
          "text": [
            "Original 1D Array:\n",
            "[ 11  22  33  44  55  66  77  88  99 100 111 122]\n",
            "Shape: (12,)\n",
            "\n",
            "Reshaped to 2D (4x3):\n",
            "[[ 11  22  33]\n",
            " [ 44  55  66]\n",
            " [ 77  88  99]\n",
            " [100 111 122]]\n",
            "Shape: (4, 3)\n",
            "\n",
            "Reshaped to 3D (2x2x3):\n",
            "[[[ 11  22  33]\n",
            "  [ 44  55  66]]\n",
            "\n",
            " [[ 77  88  99]\n",
            "  [100 111 122]]]\n",
            "Shape: (2, 2, 3)\n",
            "\n",
            "Transposed 2D Array:\n",
            "[[ 11  44  77 100]\n",
            " [ 22  55  88 111]\n",
            " [ 33  66  99 122]]\n",
            "Shape: (3, 4)\n"
          ]
        }
      ]
    },
    {
      "cell_type": "code",
      "source": [
        "# Task 5: Boolean Masking and Filtering\n",
        "import numpy as np\n",
        "\n",
        "numbers = np.array([12, 45, 33, 27, 50, 41, 22, 18, 39, 29, 32, 47, 10, 26, 44])\n",
        "print(\"Original Array:\")\n",
        "print(numbers)\n",
        "print()\n",
        "\n",
        "above_25 = numbers[numbers > 25]\n",
        "print(\"Elements greater than 25:\")\n",
        "print(above_25)\n",
        "print()\n",
        "\n",
        "changed_numbers = numbers.copy()\n",
        "changed_numbers[changed_numbers < 30] = 0\n",
        "print(\"Array after replacing elements < 30 with 0:\")\n",
        "print(changed_numbers)\n",
        "print()\n",
        "\n",
        "count_five = np.sum(numbers % 5 == 0)\n",
        "print(\"Number of elements divisible by 5:\", count_five)\n"
      ],
      "metadata": {
        "colab": {
          "base_uri": "https://localhost:8080/"
        },
        "id": "7NBQH430NlbV",
        "outputId": "5a78f87c-d02d-4a2f-adcb-81064278458f"
      },
      "execution_count": 6,
      "outputs": [
        {
          "output_type": "stream",
          "name": "stdout",
          "text": [
            "Original Array:\n",
            "[12 45 33 27 50 41 22 18 39 29 32 47 10 26 44]\n",
            "\n",
            "Elements greater than 25:\n",
            "[45 33 27 50 41 39 29 32 47 26 44]\n",
            "\n",
            "Array after replacing elements < 30 with 0:\n",
            "[ 0 45 33  0 50 41  0  0 39  0 32 47  0  0 44]\n",
            "\n",
            "Number of elements divisible by 5: 3\n"
          ]
        }
      ]
    },
    {
      "cell_type": "code",
      "source": [
        "# Task 6: Working with Built-in Functions\n",
        "import numpy as np\n",
        "\n",
        "values = np.linspace(0, 1, 10)\n",
        "print(\"Equally spaced values between 0 and 1:\")\n",
        "print(values)\n",
        "print()\n",
        "\n",
        "matrix = np.eye(4)\n",
        "print(\"4x4 Identity Matrix:\")\n",
        "print(matrix)\n",
        "print()\n",
        "\n",
        "random_nums = np.array([23, 87, 45, 12, 90, 34, 56, 78, 65, 19, 38, 99, 5, 74, 81, 40, 67, 29, 10, 53])\n",
        "print(\"Original Random Array:\")\n",
        "print(random_nums)\n",
        "print()\n",
        "\n",
        "sorted_nums = np.sort(random_nums)\n",
        "print(\"Sorted Array:\")\n",
        "print(sorted_nums)\n",
        "print()\n",
        "\n",
        "top_5 = sorted_nums[-5:]\n",
        "print(\"5 Largest Elements:\")\n",
        "print(top_5)\n"
      ],
      "metadata": {
        "colab": {
          "base_uri": "https://localhost:8080/"
        },
        "id": "4J1OjJ7bN8Zp",
        "outputId": "3e88069d-e5d7-422e-986c-7d4f40164d3c"
      },
      "execution_count": 7,
      "outputs": [
        {
          "output_type": "stream",
          "name": "stdout",
          "text": [
            "Equally spaced values between 0 and 1:\n",
            "[0.         0.11111111 0.22222222 0.33333333 0.44444444 0.55555556\n",
            " 0.66666667 0.77777778 0.88888889 1.        ]\n",
            "\n",
            "4x4 Identity Matrix:\n",
            "[[1. 0. 0. 0.]\n",
            " [0. 1. 0. 0.]\n",
            " [0. 0. 1. 0.]\n",
            " [0. 0. 0. 1.]]\n",
            "\n",
            "Original Random Array:\n",
            "[23 87 45 12 90 34 56 78 65 19 38 99  5 74 81 40 67 29 10 53]\n",
            "\n",
            "Sorted Array:\n",
            "[ 5 10 12 19 23 29 34 38 40 45 53 56 65 67 74 78 81 87 90 99]\n",
            "\n",
            "5 Largest Elements:\n",
            "[78 81 87 90 99]\n"
          ]
        }
      ]
    },
    {
      "cell_type": "code",
      "source": [
        "# Task 7: Generic\n",
        "import numpy as np\n",
        "import time\n",
        "\n",
        "matrix_a = np.random.rand(100, 100)\n",
        "matrix_b = np.random.rand(100, 100)\n",
        "\n",
        "start = time.time()\n",
        "\n",
        "product = np.dot(matrix_a, matrix_b)\n",
        "\n",
        "try:\n",
        "    det = np.linalg.det(product)\n",
        "    inv = np.linalg.inv(product)\n",
        "    is_invertible = True\n",
        "except np.linalg.LinAlgError:\n",
        "    det = None\n",
        "    inv = None\n",
        "    is_invertible = False\n",
        "\n",
        "end = time.time()\n",
        "duration = end - start\n",
        "\n",
        "print(\"Matrix multiplication completed.\")\n",
        "print(\"Determinant:\", det)\n",
        "print(\"Is Invertible:\", is_invertible)\n",
        "if is_invertible:\n",
        "    print(\"Inverse matrix calculated.\")\n",
        "else:\n",
        "    print(\"Inverse not possible (matrix is singular).\")\n",
        "print(\"Time taken: {:.4f} seconds\".format(duration))\n"
      ],
      "metadata": {
        "colab": {
          "base_uri": "https://localhost:8080/"
        },
        "id": "_fhRvGU_OGrc",
        "outputId": "d4f7ab7d-211d-4828-d462-c732c4457875"
      },
      "execution_count": 8,
      "outputs": [
        {
          "output_type": "stream",
          "name": "stdout",
          "text": [
            "Matrix multiplication completed.\n",
            "Determinant: -7.302748843991638e+50\n",
            "Is Invertible: True\n",
            "Inverse matrix calculated.\n",
            "Time taken: 0.0053 seconds\n"
          ]
        }
      ]
    }
  ]
}